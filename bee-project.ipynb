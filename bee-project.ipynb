{
 "cells": [
  {
   "cell_type": "markdown",
   "metadata": {},
   "source": [
    "# Defining the Fully Convolutional Neural Network"
   ]
  },
  {
   "cell_type": "code",
   "execution_count": 12,
   "metadata": {},
   "outputs": [],
   "source": [
    "import torch\n",
    "import torch.nn as nn\n",
    "import torch.nn.functional as F\n",
    "import torch.optim as optim\n",
    "import numpy as np"
   ]
  },
  {
   "cell_type": "code",
   "execution_count": 20,
   "metadata": {},
   "outputs": [],
   "source": [
    "class FCNN(nn.Module):\n",
    "    \n",
    "    def __init__(self):\n",
    "        super(FCNN, self).__init__()\n",
    "        self.conv1 = nn.Conv2d(in_channels=1, out_channels=30, kernel_size=5, stride=2)\n",
    "        \n",
    "        self.conv2 = nn.Conv2d(in_channels=30, out_channels=60, kernel_size=3, stride=1)\n",
    "        self.conv2_drop = nn.Dropout2d()\n",
    "        \n",
    "        self.conv3 = nn.Conv2d(in_channels=60, out_channels=60, kernel_size=3, stride=2)\n",
    "        self.conv3_drop = nn.Dropout2d()\n",
    "        \n",
    "        self.conv4 = nn.Conv2d(in_channels=60, out_channels=120, kernel_size=3, stride=1)\n",
    "        \n",
    "        self.conv5 = nn.Conv2d(in_channels=120, out_channels=120, kernel_size=3, stride=1)\n",
    "        \n",
    "        self.conv5 = nn.Conv2d(in_channels=120, out_channels=1, kernel_size=1, stride=1)\n",
    "        \n",
    "        \n",
    "    def forward(self, data):\n",
    "        x = F.relu(self.conv1(data))\n",
    "        x = F.relu(self.conv2_drop(self.conv2(x)))\n",
    "        x = F.relu(self.conv3_drop(self.conv3(x)))\n",
    "        x = F.relu(self.conv4(x))\n",
    "        x = F.sigmoid(self.conv5(x))\n",
    "        return x\n",
    "        \n",
    "network = FCNN()"
   ]
  },
  {
   "cell_type": "markdown",
   "metadata": {},
   "source": [
    "# Loading the samples"
   ]
  },
  {
   "cell_type": "code",
   "execution_count": null,
   "metadata": {},
   "outputs": [],
   "source": []
  },
  {
   "cell_type": "markdown",
   "metadata": {},
   "source": [
    "# Data Augmentation\n",
    "and splitting the dataset into train and validation data. "
   ]
  },
  {
   "cell_type": "code",
   "execution_count": null,
   "metadata": {},
   "outputs": [],
   "source": []
  },
  {
   "cell_type": "markdown",
   "metadata": {},
   "source": [
    "# Train the Network"
   ]
  },
  {
   "cell_type": "code",
   "execution_count": 21,
   "metadata": {},
   "outputs": [],
   "source": [
    "\n",
    "ep = 10;\n",
    "\n",
    "#Which optimizer and criterion should we choose? Perform best?\n",
    "criterion = nn.CrossEntropyLoss()\n",
    "optimizer = optim.SGD(network.parameters(), lr=0.001, momentum=0.9)\n"
   ]
  },
  {
   "cell_type": "code",
   "execution_count": 23,
   "metadata": {},
   "outputs": [],
   "source": [
    "# from pytorch blitz tutorial\n",
    "\n",
    "def train(network, trainloader, ep, criterion, optimizer, print_interval):\n",
    "    for epoch in range(ep):\n",
    "        \n",
    "        running_loss = 0.0\n",
    "    \n",
    "        for i, (inputs, lables) in enumerate(trainloader):\n",
    "    \n",
    "            # zero the parameter gradients\n",
    "            optimizer.zero_grad()\n",
    "    \n",
    "            outputs = network(inputs)\n",
    "            loss = criterion(outputs, lables)\n",
    "            loss.backward() #propagate the error back through the network\n",
    "            optimizer.step() #adjust the weights of the network depending on the propagated error\n",
    "    \n",
    "            #that's it.\n",
    "    \n",
    "            #Some statistics:\n",
    "            running_loss += loss.item()\n",
    "    \n",
    "            if i % print_interval == print_interval - 1:    # print every x mini-batches\n",
    "                print('[%d, %5d] loss: %.3f' %\n",
    "                      (epoch + 1, i + 1, running_loss / print_interval))\n",
    "                running_loss = 0.0\n",
    "    \n",
    "    print('Finished Training')"
   ]
  },
  {
   "cell_type": "markdown",
   "metadata": {},
   "source": [
    "# Validation"
   ]
  },
  {
   "cell_type": "code",
   "execution_count": 29,
   "metadata": {},
   "outputs": [],
   "source": [
    "def validate(network, testloader):\n",
    "    \n",
    "    # We do not need any gradiants here, since we do not train the network.\n",
    "    # We are only interested in the predictions of the network on the testdata. \n",
    "    with torch.no_grad():\n",
    "        \n",
    "        for i, (inputs, labels) in enumerate(trainloader):\n",
    "            outputs = network(inputs) \n",
    "            \n",
    "            predicted = (outputs >= 0.9) # Not 100% sure, if this works...\n",
    "            total += labels.size(0)\n",
    "            correct += (predicted == labels).sum().item()\n",
    "    \n",
    "    print('Accuracy of the network on the test images: %d %%' % (\n",
    "    100 * correct / total))"
   ]
  },
  {
   "cell_type": "code",
   "execution_count": null,
   "metadata": {},
   "outputs": [],
   "source": []
  }
 ],
 "metadata": {
  "kernelspec": {
   "display_name": "Python 3",
   "language": "python",
   "name": "python3"
  },
  "language_info": {
   "codemirror_mode": {
    "name": "ipython",
    "version": 3
   },
   "file_extension": ".py",
   "mimetype": "text/x-python",
   "name": "python",
   "nbconvert_exporter": "python",
   "pygments_lexer": "ipython3",
   "version": "3.7.1"
  }
 },
 "nbformat": 4,
 "nbformat_minor": 2
}

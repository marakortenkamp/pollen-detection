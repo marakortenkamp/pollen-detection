{
 "cells": [
  {
   "cell_type": "code",
   "execution_count": 1,
   "metadata": {},
   "outputs": [],
   "source": [
    "import os\n",
    "import cv2\n",
    "import json\n",
    "import torch\n",
    "import torch.nn as nn\n",
    "import torch.nn.functional as F\n",
    "import torch.optim as optim\n",
    "import numpy as np\n",
    "import pickle\n",
    "\n",
    "from PIL import Image\n",
    "from matplotlib import cm\n",
    "import matplotlib.pyplot as plt\n",
    "from torchsummary import summary"
   ]
  },
  {
   "cell_type": "markdown",
   "metadata": {},
   "source": [
    "# Evaluate Network"
   ]
  },
  {
   "cell_type": "markdown",
   "metadata": {},
   "source": [
    "### Load Network"
   ]
  },
  {
   "cell_type": "code",
   "execution_count": null,
   "metadata": {},
   "outputs": [],
   "source": [
    "# define which network to load\n",
    "cur_dir = os.getcwd()\n",
    "path_to_network = os.path.join(cur_dir, 'pollennet.pt')\n",
    "\n",
    "# initialise blank network\n",
    "pollen_network = FCNN()\n",
    "# update with saved weights\n",
    "pollen_network.load_state_dict(torch.load(path_to_network))\n",
    "pollen_network.eval()\n",
    "# define criterion and optimizer\n",
    "criterion = nn.MSELoss()\n",
    "optimizer = optim.SGD(pollen_network.parameters(), lr=0.001, momentum=0.9)\n",
    "\n",
    "# # load validloader and losses:\n",
    "# TODO\n",
    "# printloader should load validloader with torch.load() somehow\n",
    "# losses with pickle?"
   ]
  },
  {
   "cell_type": "markdown",
   "metadata": {},
   "source": [
    "### Show loaded weights"
   ]
  },
  {
   "cell_type": "code",
   "execution_count": null,
   "metadata": {},
   "outputs": [],
   "source": [
    "print(\"\\n-----------------------------\\n\")\n",
    "print(\"Weights of the first layer:\")\n",
    "print(pollen_network.conv0.weight)\n",
    "\n",
    "print(\"\\n-----------------------------\\n\")\n",
    "print(\"Model's state_dict:\")\n",
    "for param_tensor in new_network.state_dict():\n",
    "    print(param_tensor, \"\\t\", pollen_network.state_dict()[param_tensor].size())\n",
    "\n",
    "print(\"\\n-----------------------------\\n\")\n",
    "print(\"Optimizer's state_dict:\")\n",
    "for var_name in optimizer.state_dict():\n",
    "    print(var_name, \"\\t\", optimizer.state_dict()[var_name])"
   ]
  },
  {
   "cell_type": "markdown",
   "metadata": {},
   "source": [
    "### Show how data is transformed in size while going through the network"
   ]
  },
  {
   "cell_type": "code",
   "execution_count": null,
   "metadata": {},
   "outputs": [],
   "source": [
    "summary(network, (1,64,64))\n",
    "print(\"-----------------------------\")\n",
    "summary(network, (1,4000,3000))"
   ]
  },
  {
   "cell_type": "markdown",
   "metadata": {},
   "source": [
    "### Plot Losses"
   ]
  },
  {
   "cell_type": "code",
   "execution_count": null,
   "metadata": {},
   "outputs": [],
   "source": [
    "plt.plot(train_losses)\n",
    "plt.plot(val_losses)\n",
    "plt.plot(F1_scores)\n",
    "plt.plot(accuracies)\n",
    "plt.legend([\"Train Loss\", \"Validation Loss\", \"F1-Score\", \"Accuracy\"])\n",
    "plt.show()"
   ]
  },
  {
   "cell_type": "markdown",
   "metadata": {},
   "source": [
    "### Plot some wrong classified samples"
   ]
  },
  {
   "cell_type": "code",
   "execution_count": null,
   "metadata": {},
   "outputs": [],
   "source": [
    "# This function was used to find the weaknesses of the network.\n",
    "\n",
    "def print_false_positive(network, testloader):\n",
    "    \"\"\"\n",
    "    Evaluates the network and prints the false positives samples. \n",
    "    \n",
    "    Parameters:\n",
    "    \n",
    "    Returns:\n",
    "    \n",
    "    \"\"\"\n",
    "    \n",
    "    counter = 0\n",
    "    # We do not need any gradiants here, since we do not train the network.\n",
    "    # We are only interested in the predictions of the network on the testdata. \n",
    "    with torch.no_grad():\n",
    "        for i, (inputs, labels) in enumerate(testloader):\n",
    "            outputs = network(torch.transpose(inputs[...,None],1,3)).view(-1)\n",
    "            predicted = (outputs >= threshold) # Predicted is a tensor of booleans \n",
    "            predicted = predicted.view(predicted.size(0))\n",
    "            labels = labels == 1\n",
    "            if (predicted and not labels):\n",
    "                title = 'Label: False, Predicted: True'\n",
    "                fig, ax = plt.subplots()\n",
    "                plt.imshow(np.array(inputs[0]), cmap='gray')\n",
    "                ax.set_title(title)\n",
    "                plt.show()\n",
    "                counter += 1\n",
    "                if counter == 20:\n",
    "                    break\n",
    "    return counter\n",
    "\n",
    "def print_false_negative(network, testloader):\n",
    "    # We do not need any gradiants here, since we do not train the network.\n",
    "    # We are only interested in the predictions of the network on the testdata. \n",
    "    counter = 0\n",
    "    with torch.no_grad():\n",
    "        for i, (inputs, labels) in enumerate(testloader):\n",
    "            outputs = network(torch.transpose(inputs[...,None],1,3)).view(-1)\n",
    "            predicted = (outputs >= threshold) # Predicted is a tensor of booleans \n",
    "            predicted = predicted.view(predicted.size(0))\n",
    "            labels = labels == 1\n",
    "            if (not predicted and labels):\n",
    "                title = 'Label: True, Predicted: False'\n",
    "                fig, ax = plt.subplots()\n",
    "                plt.imshow(np.array(inputs[0]), cmap='gray')\n",
    "                ax.set_title(title)\n",
    "                plt.show()\n",
    "                counter += 1\n",
    "                if counter == 20:\n",
    "                    break\n",
    "    return counter"
   ]
  },
  {
   "cell_type": "code",
   "execution_count": null,
   "metadata": {},
   "outputs": [],
   "source": [
    "print_false_positive(network, printloader)\n",
    "print(\"-----------------------------\")\n",
    "print_false_negative(network, printloader)"
   ]
  },
  {
   "cell_type": "code",
   "execution_count": null,
   "metadata": {},
   "outputs": [],
   "source": [
    "\n",
    "\n",
    "\n",
    "\n"
   ]
  },
  {
   "cell_type": "markdown",
   "metadata": {},
   "source": [
    "# Create Heatmaps"
   ]
  },
  {
   "cell_type": "markdown",
   "metadata": {},
   "source": [
    "### Load Data"
   ]
  },
  {
   "cell_type": "code",
   "execution_count": null,
   "metadata": {},
   "outputs": [],
   "source": [
    "def get_samples(dir):\n",
    "    \"\"\"returns samples in given directory\"\"\"\n",
    "\n",
    "    # samples will be a list of tuples, each tuple contains a path and a list of coords of a single image\n",
    "    samples = []\n",
    "    for root, folders, files in os.walk(dir):\n",
    "        for folder in folders:\n",
    "            if folder == 'img':\n",
    "                for img_root, img_folder, img_files in os.walk(os.path.join(root, folder)):\n",
    "                    for img_file in img_files:\n",
    "                        # go find its related annotation file:\n",
    "                        found_ann = False\n",
    "                        for ann_root, ann_folder, ann_files in os.walk(os.path.join(root, 'ann')):\n",
    "                            if found_ann:\n",
    "                                break\n",
    "                            for ann_file in ann_files:\n",
    "                                if img_file in ann_file:\n",
    "                                    # found a pair!\n",
    "                                    cur_coords = []\n",
    "                                    with open(os.path.join(ann_root, ann_file)) as ann_json:\n",
    "                                        ann_data = json.load(ann_json)\n",
    "                                    cur_len = len(ann_data['objects'])\n",
    "                                    if cur_len:\n",
    "                                        for obj in ann_data['objects']:\n",
    "                                            cur_coords.append(obj['points']['exterior'][0])\n",
    "                                        img_path = os.path.join(img_root, img_file)\n",
    "                                        np_img = cv2.imread(img_path, cv2.IMREAD_GRAYSCALE)\n",
    "                                        samples.append((np.array(np_img), cur_coords))\n",
    "                                    # to prevent unnecessary looping:\n",
    "                                    found_ann = True\n",
    "                                    break\n",
    "    return samples"
   ]
  },
  {
   "cell_type": "markdown",
   "metadata": {},
   "source": [
    "### Create Heatmaps"
   ]
  },
  {
   "cell_type": "code",
   "execution_count": null,
   "metadata": {},
   "outputs": [],
   "source": [
    "def heat(network, samples):\n",
    "    \"\"\"\n",
    "    Feeds images of any size into the network and returns the belonging heatmaps. \n",
    "    \n",
    "    Parameters:\n",
    "        network (FCNN): A fully convolutional neural network, that is used to compute a heatmap.\n",
    "        testloader (torch.utils.data.DataLoader): Dataloader with batch size 1 that contains the\n",
    "            images you want to compute the heatmaps of\n",
    "        \n",
    "    Returns:\n",
    "        heatmaps ([np.array]): A list which contains a heatmap that is a 2D array for every input image.\n",
    "    \"\"\"\n",
    "    \n",
    "    heatmaps = []\n",
    "    print('Creating heatmaps...')\n",
    "    with torch.no_grad():\n",
    "\n",
    "        for fs_image, fs_coords in samples:\n",
    "            t_image = torch.Tensor(fs_image)[None, ...]\n",
    "            # outputs = network(torch.transpose(inputs[...,None],1,3))\n",
    "            heatmap = network(torch.transpose(t_image[...,None],1,3))\n",
    "            heatmaps.append((np.array(torch.transpose(heatmap[0,0,:,:],0,1)),fs_coords))\n",
    "            \n",
    "    print('Heatmaps created.')\n",
    "    return heatmaps"
   ]
  },
  {
   "cell_type": "markdown",
   "metadata": {},
   "source": [
    "### Find local maxima with max-pooling"
   ]
  },
  {
   "cell_type": "code",
   "execution_count": null,
   "metadata": {},
   "outputs": [],
   "source": [
    "def non_max_suppression(heatmaps, local_size = 8):\n",
    "    heatmaps_sup = []\n",
    "    pooling = nn.MaxPool2d((local_size * 2 - 1), stride = 1, padding = local_size - 1)\n",
    "    for heatmap in heatmaps:\n",
    "        max_filter = pooling(torch.tensor(heatmap)[None,...])\n",
    "        max_filter = np.array(max_filter)\n",
    "        heatmap = ((heatmap == max_filter) * (heatmap >= 0.8)).astype(int)\n",
    "        heatmaps_sup.append(heatmap[0,:,:])\n",
    "        \n",
    "    return heatmaps_sup\n",
    "\n",
    "def non_max_suppression_single(heatmap, local_size = 8):\n",
    "    pooling = nn.MaxPool2d((local_size * 2 - 1), stride = 1, padding = local_size - 1)\n",
    "    max_filter = pooling(torch.tensor(heatmap)[None,...])\n",
    "    max_filter = np.array(max_filter)\n",
    "    heatmap = ((heatmap == max_filter) * (heatmap >= 0.8)).astype(int)\n",
    "    heatmap_sup = heatmap[0,:,:]\n",
    "        \n",
    "    return heatmap_sup"
   ]
  },
  {
   "cell_type": "markdown",
   "metadata": {},
   "source": [
    "### Extract coordiantes of predicted pollen in heatmap"
   ]
  },
  {
   "cell_type": "code",
   "execution_count": null,
   "metadata": {},
   "outputs": [],
   "source": [
    "def pollen_coordinates(heatmap):\n",
    "    coordinate_list = []\n",
    "    h_coordinates = np.argwhere(heatmap == 1)\n",
    "    for i in range(h_coordinates.shape[0]):\n",
    "        coordinate_list.append((h_coordinates[i,0] * 2 * 2 * 2 + 28, h_coordinates[i,1] * 2 * 2 * 2 + 28))\n",
    "    return coordinate_list"
   ]
  },
  {
   "cell_type": "markdown",
   "metadata": {},
   "source": [
    "### Plot Image with actual Pollen and predicted locations"
   ]
  },
  {
   "cell_type": "code",
   "execution_count": null,
   "metadata": {},
   "outputs": [],
   "source": [
    "def guess_plotter(img, network_guess, actual_points):\n",
    "\n",
    "    np_img = np.array(Image.open(img), dtype=np.uint8)\n",
    "    main_fig,ax = plt.subplots(1)\n",
    "    ax.imshow(np_img)\n",
    "\n",
    "    for coord in actual_points:\n",
    "        crcl = patches.Circle((coord[0],coord[1]),35,linewidth=4,edgecolor='r',facecolor='none')\n",
    "        ax.add_patch(crcl)\n",
    "\n",
    "    for coord in network_guess:\n",
    "        crcl = patches.Circle((coord[0],coord[1]),20,linewidth=2,edgecolor='b',facecolor='none')\n",
    "        ax.add_patch(crcl)\n",
    "\n",
    "    plt.show()"
   ]
  },
  {
   "cell_type": "markdown",
   "metadata": {},
   "source": [
    "### Run the code above:"
   ]
  },
  {
   "cell_type": "code",
   "execution_count": null,
   "metadata": {},
   "outputs": [],
   "source": [
    "# Load Images\n",
    "cur_dir = os.getcwd()\n",
    "full_size_path = os.path.join(curd_dir, 'Fullsize')\n",
    "full_size_images = get_samples(full_size_path)\n",
    "\n",
    "# Create heatmap of images\n",
    "heatmaps = heat(network,full_size_images)\n",
    "\n",
    "# Find local maxima on heatmaps\n",
    "non_max_heatmaps = [(non_max_suppression_single(heatmap),coords) for heatmap, coords in heatmaps]\n",
    "\n",
    "# TODO\n",
    "# plot images with predicted and real pollen marked"
   ]
  },
  {
   "cell_type": "code",
   "execution_count": null,
   "metadata": {},
   "outputs": [],
   "source": []
  }
 ],
 "metadata": {
  "kernelspec": {
   "display_name": "Python 3",
   "language": "python",
   "name": "python3"
  },
  "language_info": {
   "codemirror_mode": {
    "name": "ipython",
    "version": 3
   },
   "file_extension": ".py",
   "mimetype": "text/x-python",
   "name": "python",
   "nbconvert_exporter": "python",
   "pygments_lexer": "ipython3",
   "version": "3.8.2"
  }
 },
 "nbformat": 4,
 "nbformat_minor": 4
}
